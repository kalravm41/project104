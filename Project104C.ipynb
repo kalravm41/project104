{
  "nbformat": 4,
  "nbformat_minor": 0,
  "metadata": {
    "colab": {
      "name": "Project104C",
      "provenance": [],
      "authorship_tag": "ABX9TyMa4S6HaBkWKYf+356wp3rs",
      "include_colab_link": true
    },
    "kernelspec": {
      "name": "python3",
      "display_name": "Python 3"
    }
  },
  "cells": [
    {
      "cell_type": "markdown",
      "metadata": {
        "id": "view-in-github",
        "colab_type": "text"
      },
      "source": [
        "<a href=\"https://colab.research.google.com/github/kalravm41/project104/blob/main/Project104C.ipynb\" target=\"_parent\"><img src=\"https://colab.research.google.com/assets/colab-badge.svg\" alt=\"Open In Colab\"/></a>"
      ]
    },
    {
      "cell_type": "code",
      "metadata": {
        "colab": {
          "base_uri": "https://localhost:8080/"
        },
        "id": "ugmjkazxAPJg",
        "outputId": "a54f1327-b757-47d7-817f-59e3c6e81436"
      },
      "source": [
        "from collections import Counter \n",
        "import csv \n",
        "import collections\n",
        "\n",
        "with open('File.csv',newline='') as f :\n",
        "  reader = csv.reader(f)\n",
        "  f_data = list(reader)\n",
        "  f_data.pop(0)\n",
        "\n",
        "  new_data = []\n",
        "  for i in range(len(f_data)):\n",
        "    n_num = f_data[i][2]\n",
        "    new_data.append(float(n_num))\n",
        "\n",
        "  data = Counter(new_data) \n",
        "  mode = {\n",
        "      '50-60': 0, \n",
        "      '60-70': 0,\n",
        "      '70-80': 0\n",
        "  }  \n",
        "  for height,occurence in data.items():\n",
        "    if 50 < float(height) < 60 :\n",
        "      mode['50-60'] += occurence\n",
        "    elif 60< float(height)<70 :\n",
        "      mode['60-70'] += occurence\n",
        "    elif 70<float(height)<80:\n",
        "      mode['70-80'] += occurence\n",
        "  mode_range = 0\n",
        "  mode_occurence = 0\n",
        "\n",
        "  for mode_range, mode_occurence in mode.items():\n",
        "    if occurence>mode_occurence :\n",
        "      mode_range,mode_occurence = [int(mode_range.split('-')[0]),int(mode_range.split('-')[1])] \n",
        "  mode1 = float(int(mode_range[0]+mode_range[1])/2)\n",
        "  print(mode1) "
      ],
      "execution_count": 3,
      "outputs": [
        {
          "output_type": "stream",
          "text": [
            "35.0\n"
          ],
          "name": "stdout"
        }
      ]
    }
  ]
}