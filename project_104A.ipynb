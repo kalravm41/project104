{
  "nbformat": 4,
  "nbformat_minor": 0,
  "metadata": {
    "colab": {
      "name": "project 104A",
      "provenance": [],
      "authorship_tag": "ABX9TyOc8H4lBnuLOKgtBVm+0dPe",
      "include_colab_link": true
    },
    "kernelspec": {
      "name": "python3",
      "display_name": "Python 3"
    }
  },
  "cells": [
    {
      "cell_type": "markdown",
      "metadata": {
        "id": "view-in-github",
        "colab_type": "text"
      },
      "source": [
        "<a href=\"https://colab.research.google.com/github/kalravm41/project104/blob/main/project_104A.ipynb\" target=\"_parent\"><img src=\"https://colab.research.google.com/assets/colab-badge.svg\" alt=\"Open In Colab\"/></a>"
      ]
    },
    {
      "cell_type": "code",
      "metadata": {
        "id": "JK-lMmz-VyaH"
      },
      "source": [
        ""
      ],
      "execution_count": null,
      "outputs": []
    },
    {
      "cell_type": "code",
      "metadata": {
        "colab": {
          "base_uri": "https://localhost:8080/"
        },
        "id": "JbsVgLv3N950",
        "outputId": "057d9a81-57cc-49b8-ab29-66f7d2c0a9fc"
      },
      "source": [
        "import csv \n",
        "import collections\n",
        "\n",
        "with open('File.csv',newline='') as f :\n",
        "  reader = csv.reader(f)\n",
        "  f_data = list(reader)\n",
        "  f_data.pop(0)\n",
        "\n",
        "  new_data = []\n",
        "  for i in range(len(f_data)):\n",
        "    n_num = f_data[i][2]\n",
        "    new_data.append(float(n_num))\n",
        "\n",
        "  n = len(new_data)   \n",
        "  total = 0\n",
        "  for x in new_data :\n",
        "    total = total + x\n",
        "\n",
        "  mean = total/n\n",
        "\n",
        "  print(mean) \n"
      ],
      "execution_count": 1,
      "outputs": [
        {
          "output_type": "stream",
          "text": [
            "127.07942116079916\n"
          ],
          "name": "stdout"
        }
      ]
    }
  ]
}