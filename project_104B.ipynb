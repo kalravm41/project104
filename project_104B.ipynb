{
  "nbformat": 4,
  "nbformat_minor": 0,
  "metadata": {
    "colab": {
      "name": "project 104B",
      "provenance": [],
      "authorship_tag": "ABX9TyNiSCRJiVhvzKTxKpAYHnuk",
      "include_colab_link": true
    },
    "kernelspec": {
      "name": "python3",
      "display_name": "Python 3"
    }
  },
  "cells": [
    {
      "cell_type": "markdown",
      "metadata": {
        "id": "view-in-github",
        "colab_type": "text"
      },
      "source": [
        "<a href=\"https://colab.research.google.com/github/kalravm41/project104/blob/main/project_104B.ipynb\" target=\"_parent\"><img src=\"https://colab.research.google.com/assets/colab-badge.svg\" alt=\"Open In Colab\"/></a>"
      ]
    },
    {
      "cell_type": "code",
      "metadata": {
        "colab": {
          "base_uri": "https://localhost:8080/"
        },
        "id": "zrXjAdwH89ZS",
        "outputId": "c3beb259-e0dc-40e2-decc-2e854ec50b06"
      },
      "source": [
        "import csv \n",
        "import collections\n",
        "\n",
        "with open('File.csv',newline='') as f :\n",
        "  reader = csv.reader(f)\n",
        "  f_data = list(reader)\n",
        "  f_data.pop(0)\n",
        "\n",
        "  new_data = []\n",
        "  for i in range(len(f_data)):\n",
        "    n_num = f_data[i][2]\n",
        "    new_data.append(float(n_num))\n",
        "\n",
        "  n = len(new_data)\n",
        "  new_data.sort()\n",
        "\n",
        "  if n % 2 == 0 :\n",
        "    median1 = float(new_data[n//2])\n",
        "    median2 = float(new_data[n//2-1])\n",
        "    median = (median1 + median2)//2\n",
        "  else:\n",
        "    median = new_data[n//2]\n",
        "    \n",
        "  print(median) "
      ],
      "execution_count": null,
      "outputs": [
        {
          "output_type": "stream",
          "text": [
            "127.0\n"
          ],
          "name": "stdout"
        }
      ]
    }
  ]
}